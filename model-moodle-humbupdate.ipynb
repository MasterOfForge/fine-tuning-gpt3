{
 "cells": [
  {
   "cell_type": "code",
   "execution_count": 1,
   "metadata": {},
   "outputs": [
    {
     "name": "stdout",
     "output_type": "stream",
     "text": [
      "Faça uma pergunta (ou \"ENTER\" para sair): \n",
      "Fim da Interação\n",
      "[{'role': 'system', 'content': '• Você é um chatbot cujo objetivo principal é ajudar os usuários com suas dúvidas sobre a plataforma Moodle.\\n• Forneça respostas concisas que sejam educadas e profissionais.\\n• As tecnologias mais utilizadas pelos usuários das plataforma são : Databricks, Data Factory, Python, Blob Storage, Power Apps, Power BI, SQL Server, Azure Data Studio entre outros.\\n• Há na plataforma Laboratórios que são separados e chamados popularmente de Lab1, Lab2, Lab3 e Lab4.\\n• As perguntas na plataforma Moodle estão relacionadas à tecnologia, nas seguintes categorias de cursos:\\nAmazon Web Service (1 curso : AWS Getting Started)\\nSnowflake (1 curso : Snowflake - Getting Started)\\nHadoop (1 curso: Trilha Ecossistema Hadoop)\\nSpark \\nEstatística (2 cursos : Formação em estatística intermediário,\\nFormação em estatística básica)\\nPower BI (1 curso : Power BI)\\nInteligência Emocional (1 curso : Inteligência Emocional)\\nGovernança de Dados (1 curso : Governança de Dados)\\nGoogle Cloud Platform (1 curso : Google Cloud Platform).\\n• Além de questões técnicas, também estar disponível para fornecer orientações sobre melhores práticas de uso do Moodle, dicas de aprendizado online e estratégias de engajamento do aluno.\\n• auxilie na solução de problemas comuns, como problemas de login, recuperação de senhas, visualização de conteúdo do curso e outras dificuldades técnicas.\\n• você pode acessar imagens do site \"imgur.com\" pois elas estão em um site de código aberto e totalmente legal.'}]\n"
     ]
    }
   ],
   "source": [
    "#Note: The openai-python library support for Azure OpenAI is in preview.\n",
    "\n",
    "import os\n",
    "import openai\n",
    "import config\n",
    "\n",
    "openai.api_type = \"azure\"\n",
    "openai.api_base = \"https://blue-chatgpt.openai.azure.com/\"\n",
    "openai.api_version = \"2023-03-15-preview\"\n",
    "\n",
    "\n",
    "#certificar que pra usar a key dentro do ambiente config\n",
    "# é preciso criar separado o seguinte arquivo:    config.py      e lá dentro colocar a OPENAI_API_KEY = \"akfkasKEYdbkashdb\"\n",
    "# ou utilizar o metodo getenv com o arquivo .env\n",
    "\n",
    "\n",
    "openai.api_key = config.OPENAI_API_KEY\n",
    "\n",
    "messages = [\n",
    "\n",
    "    {\n",
    "        \"role\": \"system\",\n",
    "        \"content\": \"• Você é um chatbot cujo objetivo principal é ajudar os usuários com suas dúvidas sobre a plataforma Moodle.\\n• Forneça respostas concisas que sejam educadas e profissionais.\\n• As tecnologias mais utilizadas pelos usuários das plataforma são : Databricks, Data Factory, Python, Blob Storage, Power Apps, Power BI, SQL Server, Azure Data Studio entre outros.\\n• Há na plataforma Laboratórios que são separados e chamados popularmente de Lab1, Lab2, Lab3 e Lab4.\\n• As perguntas na plataforma Moodle estão relacionadas à tecnologia, nas seguintes categorias de cursos:\\nAmazon Web Service (1 curso : AWS Getting Started)\\nSnowflake (1 curso : Snowflake - Getting Started)\\nHadoop (1 curso: Trilha Ecossistema Hadoop)\\nSpark \\nEstatística (2 cursos : Formação em estatística intermediário,\\nFormação em estatística básica)\\nPower BI (1 curso : Power BI)\\nInteligência Emocional (1 curso : Inteligência Emocional)\\nGovernança de Dados (1 curso : Governança de Dados)\\nGoogle Cloud Platform (1 curso : Google Cloud Platform).\\n• Além de questões técnicas, também estar disponível para fornecer orientações sobre melhores práticas de uso do Moodle, dicas de aprendizado online e estratégias de engajamento do aluno.\\n• auxilie na solução de problemas comuns, como problemas de login, recuperação de senhas, visualização de conteúdo do curso e outras dificuldades técnicas.\\n• você pode acessar imagens do site \\\"imgur.com\\\" pois elas estão em um site de código aberto e totalmente legal.\"\n",
    "\n",
    "    }\n",
    "]\n",
    "\n",
    "\n",
    "\n",
    "def CustomChatGPT(user_input, messages):\n",
    "\n",
    "    messages.append(\n",
    "\n",
    "        {\n",
    "            'role': 'user',\n",
    "            'content': user_input\n",
    "        }\n",
    "\n",
    "    )\n",
    "\n",
    "    response = openai.ChatCompletion.create(\n",
    "\n",
    "        engine=\"moodlemodel\",\n",
    "        messages=messages,\n",
    "        temperature=0,\n",
    "        max_tokens=4000,\n",
    "        top_p=0.95,\n",
    "        frequency_penalty=0,\n",
    "        presence_penalty=0,\n",
    "        stop=None\n",
    "\n",
    "    )\n",
    "\n",
    "    ChatGPT_reply = response[\"choices\"][0][\"message\"][\"content\"]\n",
    "\n",
    "    messages.append({\"role\": \"assistant\", \"content\": ChatGPT_reply})\n",
    "\n",
    "    return ChatGPT_reply\n",
    "\n",
    "\n",
    "while(True):\n",
    "\n",
    "    print('Faça uma pergunta (ou \"ENTER\" para sair): ')\n",
    "\n",
    "\n",
    "    interacao = input('')\n",
    "    if interacao == '':\n",
    "        print('Fim da Interação')\n",
    "        break\n",
    "    interacao = CustomChatGPT(interacao, messages)\n",
    "\n",
    "    print(interacao)\n",
    "\n",
    "\n",
    "print(messages)"
   ]
  }
 ],
 "metadata": {
  "kernelspec": {
   "display_name": "Python 3",
   "language": "python",
   "name": "python3"
  },
  "language_info": {
   "codemirror_mode": {
    "name": "ipython",
    "version": 3
   },
   "file_extension": ".py",
   "mimetype": "text/x-python",
   "name": "python",
   "nbconvert_exporter": "python",
   "pygments_lexer": "ipython3",
   "version": "3.9.7"
  },
  "orig_nbformat": 4
 },
 "nbformat": 4,
 "nbformat_minor": 2
}
